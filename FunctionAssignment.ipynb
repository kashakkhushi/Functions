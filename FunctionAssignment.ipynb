{
  "nbformat": 4,
  "nbformat_minor": 0,
  "metadata": {
    "colab": {
      "provenance": []
    },
    "kernelspec": {
      "name": "python3",
      "display_name": "Python 3"
    },
    "language_info": {
      "name": "python"
    }
  },
  "cells": [
    {
      "cell_type": "markdown",
      "source": [
        "#Theory Questions\n",
        "Q1. What is the difference between a function and a method in Python?                                                                         \n",
        "Answer: A function is a block of reusable code that performs a specific task. Method is somewhat similar to function but is associated with an object.        \n",
        "\n",
        "Q2.Explain the concept of function arguments and parameters in Python.          \n",
        "Answer: Function parameters are the placeholders defined in the function definition. Function arguments on the other hand are the actual values that are passef while calling the function.                                              \n",
        "\n",
        "Q3.What are the different ways to define and call a function in Python?         \n",
        "Answer: The different ways to define and call a function in Python are:         \n",
        "i)By regular function                                                           \n",
        "ii)By function with default parameters                                         \n",
        "iii)By lambda function                                                         \n",
        "iv)By recursive function                                                       \n",
        "v)By variable length argument                                                  \n",
        "vi)Generator function and so on...                                            \n",
        "\n",
        "Q4.What is the purpose of the `return` statement in a Python function?         \n",
        "Answer: The purpose of the'return' statement in a python function helps the function to give the result of some data type. If return is not written then the function will be of the Nonetype.                                         \n",
        "\n",
        "Q5.What are iterators in Python and how do they differ from iterables?       \n",
        "Answer:Iterators are the objects representing a stream of data and returns the data one by one. Iterable only has iter() method whereas iterator has both iter() and next() methods.Example of iterables are :Lists,tuples,dictionaries,etc.Examples of iterator: File object.                                             \n",
        "\n",
        "Q6.Explain the concept of generators in Python and how they are defined.        \n",
        "Answer:  Generators are  special type of function that allows you to yield values one at a time. These are defined just like regular function except it uses yield statement instead of return statement.                              \n",
        "\n",
        "Q7. What are the advantages of using generators over regular functions?         \n",
        "Answer: Regular functions gives the result in one go whereas generator functions generate the result one by one instead of generating in one go. Regular function uses return statement and genrator function uses yield statement.                                                                      \n",
        "\n",
        "Q8. What is a lambda function in Python and when is it typically used?          \n",
        "Answer: A lambda function is an anonymous function in python. It is defined using lambda. It is preferrable when the function is used temporarily such as for sorting and hashing.                                                        \n",
        "\n",
        "Q9.Explain the purpose and usage of the `map()` function in Python.\n",
        "Answer: Map function executes a specified function for each item of an iterable.Syntax: map(function,*iterables). It is used when applying a single argument function, using a lambda function with map, etc.                                \n",
        "\n",
        "Q10. What is the difference between `map()`, `reduce()`, and `filter()` functions in Python?                                                            \n",
        "Answer: Map function exceutes a specified function for each item of an iterable.\n",
        "Reduce function reduces an iterable to a single value by repeatedly applying a binary function. It takes 2 arguments. Filter function filters elements based on a condition.                                                                 \n",
        "\n",
        "Q11. Using pen & Paper write the internal mechanism for sum operation using  reduce function on this given\n",
        "list:[47,11,42,13];"
      ],
      "metadata": {
        "id": "aPjVAh6P_J3W"
      }
    },
    {
      "cell_type": "markdown",
      "source": [
        "#Practical Questions"
      ],
      "metadata": {
        "id": "Cjb4BV6QGe9M"
      }
    },
    {
      "cell_type": "markdown",
      "source": [
        "Q1. Write a Python function that takes a list of numbers as input and returns the sum of all even numbers in\n",
        "the list."
      ],
      "metadata": {
        "id": "M5NWz_y4GluE"
      }
    },
    {
      "cell_type": "code",
      "source": [
        "def func(l):\n",
        "  sum=0\n",
        "  for i in l:\n",
        "    if i%2==0:\n",
        "      sum+=i\n",
        "  return sum\n",
        "l=[]\n",
        "n=int(input(\"Enter the number of elements to be in the list: \"))\n",
        "for i in range(n):\n",
        "  i=int(input(\"Enter the element:\"))\n",
        "  l.append(i)\n",
        "print(l)\n",
        "func(l)"
      ],
      "metadata": {
        "colab": {
          "base_uri": "https://localhost:8080/"
        },
        "id": "nqYrPaYHGtk7",
        "outputId": "40960c6a-b8ec-4e80-d6a0-05aaa9d5be08"
      },
      "execution_count": 3,
      "outputs": [
        {
          "output_type": "stream",
          "name": "stdout",
          "text": [
            "Enter the number of elements to be in the list: 4\n",
            "Enter the element:1\n",
            "Enter the element:2\n",
            "Enter the element:3\n",
            "Enter the element:4\n",
            "[1, 2, 3, 4]\n"
          ]
        },
        {
          "output_type": "execute_result",
          "data": {
            "text/plain": [
              "6"
            ]
          },
          "metadata": {},
          "execution_count": 3
        }
      ]
    },
    {
      "cell_type": "markdown",
      "source": [
        "Q2. Create a Python function that accepts a string and returns the reverse of that string."
      ],
      "metadata": {
        "id": "R8IxVwTYJwk_"
      }
    },
    {
      "cell_type": "code",
      "source": [
        "def func(s):\n",
        "  return s[::-1]\n",
        "s=input(\"Enter the string:\")\n",
        "print(\"The reverse of the string is: \")\n",
        "func(s)"
      ],
      "metadata": {
        "colab": {
          "base_uri": "https://localhost:8080/",
          "height": 70
        },
        "id": "7qGIKwkuJ3N4",
        "outputId": "ec7e5922-748b-4f7b-ffc5-65ecbc110bbf"
      },
      "execution_count": 4,
      "outputs": [
        {
          "output_type": "stream",
          "name": "stdout",
          "text": [
            "Enter the string:Khushi\n",
            "The reverse of the string is: \n"
          ]
        },
        {
          "output_type": "execute_result",
          "data": {
            "text/plain": [
              "'ihsuhK'"
            ],
            "application/vnd.google.colaboratory.intrinsic+json": {
              "type": "string"
            }
          },
          "metadata": {},
          "execution_count": 4
        }
      ]
    },
    {
      "cell_type": "markdown",
      "source": [
        "Q3. Implement a Python function that takes a list of integers and returns a new list containing the squares of\n",
        "each number."
      ],
      "metadata": {
        "id": "N8oT5cHwKHjV"
      }
    },
    {
      "cell_type": "code",
      "source": [
        "def func(L):\n",
        "  L1=[]\n",
        "  for i in L:\n",
        "    L1.append(i**2)\n",
        "  return L1\n",
        "L=[1,2,3,4,5]\n",
        "print(L)\n",
        "func(L)"
      ],
      "metadata": {
        "colab": {
          "base_uri": "https://localhost:8080/"
        },
        "id": "vWhJ7mAFKLu0",
        "outputId": "cb8c85b2-60b3-452b-ce2a-7494fa1a6c90"
      },
      "execution_count": 6,
      "outputs": [
        {
          "output_type": "stream",
          "name": "stdout",
          "text": [
            "[1, 2, 3, 4, 5]\n"
          ]
        },
        {
          "output_type": "execute_result",
          "data": {
            "text/plain": [
              "[1, 4, 9, 16, 25]"
            ]
          },
          "metadata": {},
          "execution_count": 6
        }
      ]
    },
    {
      "cell_type": "markdown",
      "source": [
        "Q4. Write a Python function that checks if a given number is prime or not from 1 to 200."
      ],
      "metadata": {
        "id": "sLzEFQ-8KjZE"
      }
    },
    {
      "cell_type": "code",
      "source": [
        "def check(n):\n",
        "  if n<2:\n",
        "    return False\n",
        "  for i in range(2,n):\n",
        "    if n%i==0:\n",
        "      return False\n",
        "  return True\n",
        "num=int(input(\"Enter a number:\"))\n",
        "if(num>1&num<200):\n",
        "    if check(num):\n",
        "        print(num,\"is a prime number.\")\n",
        "    else:\n",
        "        print(num,\"is not a prime number.\")"
      ],
      "metadata": {
        "colab": {
          "base_uri": "https://localhost:8080/"
        },
        "id": "gASPlC8NKo6h",
        "outputId": "88df641e-b233-43b4-bbfd-db3cd82ea2e3"
      },
      "execution_count": 10,
      "outputs": [
        {
          "output_type": "stream",
          "name": "stdout",
          "text": [
            "Enter a number:5\n",
            "5 is a prime number.\n"
          ]
        }
      ]
    },
    {
      "cell_type": "markdown",
      "source": [
        "Q5.Create an iterator class in Python that generates the Fibonacci sequence up to a specified number of\n",
        "terms."
      ],
      "metadata": {
        "id": "t_HvPtMvLwM0"
      }
    },
    {
      "cell_type": "code",
      "source": [
        "class FibonacciIterator:\n",
        "    def __init__(self, n):\n",
        "        self.n = n\n",
        "    def __iter__(self):\n",
        "        a, b = 0, 1\n",
        "        for _ in range(self.n):\n",
        "            yield a\n",
        "            a, b = b, a + b\n",
        "n = 10\n",
        "fib_iterator = FibonacciIterator(n)\n",
        "print(f\"First {n} Fibonacci numbers:\")\n",
        "for fib in fib_iterator:\n",
        "    print(fib, end=\" \")\n"
      ],
      "metadata": {
        "colab": {
          "base_uri": "https://localhost:8080/"
        },
        "id": "aRQ11-iYL4hi",
        "outputId": "0c87a0a2-f160-4754-cc65-22ebea162dee"
      },
      "execution_count": 27,
      "outputs": [
        {
          "output_type": "stream",
          "name": "stdout",
          "text": [
            "First 10 Fibonacci numbers:\n",
            "0 1 1 2 3 5 8 13 21 34 "
          ]
        }
      ]
    },
    {
      "cell_type": "markdown",
      "source": [
        "Q6.Write a generator function in Python that yields the powers of 2 up to a given exponent."
      ],
      "metadata": {
        "id": "6_tD07nXMD8i"
      }
    },
    {
      "cell_type": "code",
      "source": [
        "def sq_no_generator(n):\n",
        "  for i in range(n):\n",
        "    yield i**2\n",
        "n= int(input(\"Enter the number:\"))\n",
        "p=sq_no_generator(n+1)\n",
        "print(list(p))"
      ],
      "metadata": {
        "colab": {
          "base_uri": "https://localhost:8080/"
        },
        "id": "lsvToiv8MHRd",
        "outputId": "c61e45a5-fbc5-4dba-8f49-b5ba491cf16a"
      },
      "execution_count": 16,
      "outputs": [
        {
          "output_type": "stream",
          "name": "stdout",
          "text": [
            "Enter the number:5\n",
            "[0, 1, 4, 9, 16, 25]\n"
          ]
        }
      ]
    },
    {
      "cell_type": "markdown",
      "source": [
        "Q7. Implement a generator function that reads a file line by line and yields each line as a string."
      ],
      "metadata": {
        "id": "Kh_oNtqiNGxM"
      }
    },
    {
      "cell_type": "code",
      "source": [
        "def read_file_lines(file_path):\n",
        "    file = open(file_path, 'r')\n",
        "    try:\n",
        "        for line in file:\n",
        "            yield line.strip()\n",
        "    finally:\n",
        "        file.close()\n",
        "\n",
        "file_path = 'example.txt'\n",
        "for line in read_file_lines(file_path):\n",
        "    print(line)\n"
      ],
      "metadata": {
        "id": "6HoisT6NOGm1"
      },
      "execution_count": null,
      "outputs": []
    },
    {
      "cell_type": "markdown",
      "source": [
        "Q8. Use a lambda function in Python to sort a list of tuples based on the second element of each tuple."
      ],
      "metadata": {
        "id": "fnw1hTx9OJEE"
      }
    },
    {
      "cell_type": "code",
      "source": [
        "tuples = [(1, 3), (2, 2), (4, 1), (5, 4)]\n",
        "sort_tuples = sorted(tuples, key=lambda x: x[1])\n",
        "print(sort_tuples)\n"
      ],
      "metadata": {
        "colab": {
          "base_uri": "https://localhost:8080/"
        },
        "id": "1aPztgcXOPGv",
        "outputId": "9c0dd4d7-b52a-4259-ee2f-558d06cae6d5"
      },
      "execution_count": 18,
      "outputs": [
        {
          "output_type": "stream",
          "name": "stdout",
          "text": [
            "[(4, 1), (2, 2), (1, 3), (5, 4)]\n"
          ]
        }
      ]
    },
    {
      "cell_type": "markdown",
      "source": [
        "Q9.Write a Python program that uses `map()` to convert a list of temperatures from Celsius to Fahrenheit."
      ],
      "metadata": {
        "id": "DTpApsJbObCy"
      }
    },
    {
      "cell_type": "code",
      "source": [
        "c_temp= [0, 20, 30, 40, 100]\n",
        "def c_to_f(cel):\n",
        "    return (cel * 9/5) + 32\n",
        "f_temp = list(map(c_to_f, c_temp))\n",
        "print(f_temp)\n"
      ],
      "metadata": {
        "colab": {
          "base_uri": "https://localhost:8080/"
        },
        "id": "S-KCR3qGOhtQ",
        "outputId": "edb17db5-56ac-4124-dce7-fbe74f424db8"
      },
      "execution_count": 20,
      "outputs": [
        {
          "output_type": "stream",
          "name": "stdout",
          "text": [
            "[32.0, 68.0, 86.0, 104.0, 212.0]\n"
          ]
        }
      ]
    },
    {
      "cell_type": "markdown",
      "source": [
        "Q10.Create a Python program that uses `filter()` to remove all the vowels from a given string."
      ],
      "metadata": {
        "id": "jOGOaTEZPCIv"
      }
    },
    {
      "cell_type": "code",
      "source": [
        "def is_not_v(char):\n",
        "    vowels = \"aeiouAEIOU\"\n",
        "    return char not in vowels\n",
        "string = \"Hello, World!\"\n",
        "filter_str = ''.join(filter(is_not_v, string))\n",
        "print(filter_str)\n"
      ],
      "metadata": {
        "colab": {
          "base_uri": "https://localhost:8080/"
        },
        "id": "wssBEHDQPGbJ",
        "outputId": "49fee11a-eaed-4172-d828-8ba9b57b6e27"
      },
      "execution_count": 21,
      "outputs": [
        {
          "output_type": "stream",
          "name": "stdout",
          "text": [
            "Hll, Wrld!\n"
          ]
        }
      ]
    },
    {
      "cell_type": "markdown",
      "source": [
        "Q11. Imagine an accounting routine used in a book shop. It works on a list with sublists, which look like this:Write a Python program, which returns a list with 2-tuples. Each tuple consists of the order number and the\n",
        "product of the price per item and the quantity. The product should be increased by 10,- € if the value of the\n",
        "order is smaller than 100,00 €.Write a Python program using lambda and map."
      ],
      "metadata": {
        "id": "mjBxrR3GPc1x"
      }
    },
    {
      "cell_type": "code",
      "source": [
        "orders = [\n",
        "    [34587, \"Learning Python, Mark Lutz\", 4, 40.95],\n",
        "    [98762, \"Programming Python, Mark Lutz\", 5, 56.80],\n",
        "    [77226, \"Head First Python, Paul Barry\", 3, 32.95],\n",
        "    [88112, \"Einführung in Python3, Bernd Klein\", 3, 24.99]\n",
        "]\n",
        "def cal_value(order):\n",
        "    order_num, title, quantity, price = order\n",
        "    product = quantity * price\n",
        "    if product < 100:\n",
        "        product += 10\n",
        "    return (order_num, product)\n",
        "order_values = list(map(lambda order: cal_value(order), orders))\n",
        "print(order_values)\n"
      ],
      "metadata": {
        "colab": {
          "base_uri": "https://localhost:8080/"
        },
        "id": "cxO20FyIQCGk",
        "outputId": "21848b92-9451-4a2e-b857-a3c7310ecb2b"
      },
      "execution_count": 22,
      "outputs": [
        {
          "output_type": "stream",
          "name": "stdout",
          "text": [
            "[(34587, 163.8), (98762, 284.0), (77226, 108.85000000000001), (88112, 84.97)]\n"
          ]
        }
      ]
    }
  ]
}